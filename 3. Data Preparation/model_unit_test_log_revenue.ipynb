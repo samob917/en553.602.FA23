{
 "cells": [
  {
   "cell_type": "markdown",
   "metadata": {
    "id": "wyoN9Zvp252l"
   },
   "source": [
    "This is the Model module"
   ]
  },
  {
   "cell_type": "code",
   "execution_count": 1,
   "metadata": {
    "id": "qCFJyMUs252n"
   },
   "outputs": [],
   "source": [
    "import pandas as pd\n",
    "from sklearn.model_selection import GridSearchCV\n",
    "from sklearn.pipeline import Pipeline\n",
    "from sklearn.experimental import enable_iterative_imputer\n",
    "from sklearn.impute import IterativeImputer\n",
    "from sklearn.ensemble import RandomForestRegressor, GradientBoostingRegressor\n",
    "from sklearn.svm import SVR\n",
    "import numpy as np\n",
    "import math"
   ]
  },
  {
   "cell_type": "code",
   "execution_count": 7,
   "metadata": {
    "id": "iFhzHNWU252p"
   },
   "outputs": [],
   "source": [
    "# Loads train and test data and computes log revenue for the adj merged revenue feature\n",
    "train_df = pd.read_csv(\"./3.3 Construct Data/Final Datasets/imputed_budget_train.csv\")\n",
    "train_df['Log Revenue'] = train_df['Adj Merged Revenue'].apply(lambda x: None if pd.isnull(x) else (None if x == 0 else math.log(x)))\n",
    "test_df = pd.read_csv(\"./3.3 Construct Data/Final Datasets/imputed_budget_test.csv\")"
   ]
  },
  {
   "cell_type": "code",
   "execution_count": 19,
   "metadata": {
    "id": "1vVZEELG252p"
   },
   "outputs": [],
   "source": [
    "X_vars = ['Runtime', 'Genre Cluster', 'G', 'NC-17', 'NR', 'PG', 'PG-13', 'R', 'Holiday', 'Adj Merged Budget', 'Has Star Score', 'Has Director Score', 'Has Production Company Score', 'Has Domestic Distributor Score', 'Unweighted Star Score_normalized', 'Simple Weight Star Score_normalized', 'Log Weight Star Score_normalized', 'Exponential Weight Star Score_normalized', 'Total Director Score_normalized', 'Avg Director Score_normalized', 'Total Production Company Score_normalized', 'Avg Production Company Score_normalized', 'Domestic Distributor Score_normalized', 'Season_ASO_4', 'Season_FMA_2', 'Season_MJJ_3', 'Season_NDJ_1']\n",
    "# Take the log of revenue\n",
    "y = ['Log Revenue']"
   ]
  },
  {
   "cell_type": "code",
   "execution_count": 20,
   "metadata": {
    "id": "of31Wgdf252q"
   },
   "outputs": [],
   "source": [
    "train_X = train_df[X_vars]\n",
    "train_y = train_df[y]\n",
    "test_X = test_df[X_vars]\n",
    "test_y = test_df['Adj Merged Revenue']"
   ]
  },
  {
   "cell_type": "markdown",
   "metadata": {
    "id": "5I2VCaPQ252q"
   },
   "source": [
    "We decided to use the iterative importer with a random forrest regressor"
   ]
  },
  {
   "cell_type": "code",
   "execution_count": 21,
   "metadata": {
    "id": "ON6zaSTF252q"
   },
   "outputs": [],
   "source": [
    "imp = IterativeImputer(min_value=0, max_iter=1000, random_state=102, estimator=RandomForestRegressor())"
   ]
  },
  {
   "cell_type": "markdown",
   "metadata": {
    "id": "JcrCJjY8252q"
   },
   "source": [
    "Now to build the pipeline, we need the type of models we want to try."
   ]
  },
  {
   "cell_type": "code",
   "execution_count": 22,
   "metadata": {
    "id": "F3HNrt694w2M"
   },
   "outputs": [],
   "source": [
    "# Step 3: Building the Pipeline\n",
    "# Assuming train_X and train_y are your training features and target variable\n",
    "# Convert train_y to a 1D array\n",
    "train_y = np.ravel(train_y)\n",
    "\n",
    "pipeline = Pipeline([\n",
    "    ('imputer', imp),\n",
    "    ('regressor', RandomForestRegressor())  # RandomForestRegressor without grid search\n",
    "])\n",
    "\n",
    "# Train the RandomForestRegressor\n",
    "pipeline.fit(train_X, train_y)\n",
    "\n",
    "# Get the trained model\n",
    "trained_model = pipeline.named_steps['regressor']\n"
   ]
  },
  {
   "cell_type": "code",
   "execution_count": 23,
   "metadata": {
    "colab": {
     "base_uri": "https://localhost:8080/"
    },
    "id": "IOzikfM86Gxf",
    "outputId": "6caf0291-100c-4043-e8fa-67305e324ef0"
   },
   "outputs": [
    {
     "name": "stdout",
     "output_type": "stream",
     "text": [
      "Mean Squared Error (MSE): 827038722676370.9\n",
      "Mean Absolute Error (MAE): 10261868.982437762\n",
      "R-squared: 0.4316076830417983\n"
     ]
    }
   ],
   "source": [
    "# Assuming you have test_X as your test features\n",
    "# Make predictions using the trained model\n",
    "predictions = pipeline.predict(test_X)\n",
    "\n",
    "# Now you can use these predictions for further analysis or evaluation\n",
    "# For instance, if you have test_y (actual target values), you can evaluate the model performance\n",
    "# For example, using metrics like mean squared error (MSE) or R-squared\n",
    "from sklearn.metrics import mean_squared_error, mean_absolute_error, r2_score\n",
    "\n",
    "# Assuming test_y is your actual target variable for the test data\n",
    "# Evaluate the model\n",
    "mae = mean_absolute_error(test_y, np.exp(predictions))\n",
    "mse = mean_squared_error(test_y, np.exp(predictions))\n",
    "r_squared = r2_score(test_y, np.exp(predictions))\n",
    "\n",
    "print(\"Mean Squared Error (MSE):\", mse)\n",
    "print(\"Mean Absolute Error (MAE):\", mae)\n",
    "print(\"R-squared:\", r_squared)"
   ]
  },
  {
   "cell_type": "code",
   "execution_count": null,
   "metadata": {},
   "outputs": [],
   "source": []
  }
 ],
 "metadata": {
  "colab": {
   "provenance": []
  },
  "kernelspec": {
   "display_name": "Python 3 (ipykernel)",
   "language": "python",
   "name": "python3"
  },
  "language_info": {
   "codemirror_mode": {
    "name": "ipython",
    "version": 3
   },
   "file_extension": ".py",
   "mimetype": "text/x-python",
   "name": "python",
   "nbconvert_exporter": "python",
   "pygments_lexer": "ipython3",
   "version": "3.10.9"
  }
 },
 "nbformat": 4,
 "nbformat_minor": 1
}
