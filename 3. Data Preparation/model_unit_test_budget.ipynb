{
  "cells": [
    {
      "cell_type": "markdown",
      "metadata": {
        "id": "wyoN9Zvp252l"
      },
      "source": [
        "This is the Model module"
      ]
    },
    {
      "cell_type": "code",
      "execution_count": 44,
      "metadata": {
        "id": "qCFJyMUs252n"
      },
      "outputs": [],
      "source": [
        "import pandas as pd\n",
        "from sklearn.model_selection import GridSearchCV\n",
        "from sklearn.pipeline import Pipeline\n",
        "from sklearn.experimental import enable_iterative_imputer\n",
        "from sklearn.impute import IterativeImputer\n",
        "from sklearn.ensemble import RandomForestRegressor, GradientBoostingRegressor\n",
        "from sklearn.svm import SVR\n",
        "import numpy as np"
      ]
    },
    {
      "cell_type": "code",
      "execution_count": 45,
      "metadata": {
        "id": "iFhzHNWU252p"
      },
      "outputs": [],
      "source": [
        "train_df = pd.read_csv(\"./3.3 Construct Data/Final Datasets/imputed_budget_train.csv\")\n",
        "test_df = pd.read_csv(\"./3.3 Construct Data/Final Datasets/imputed_budget_test.csv\")"
      ]
    },
    {
      "cell_type": "code",
      "execution_count": 46,
      "metadata": {
        "id": "1vVZEELG252p"
      },
      "outputs": [],
      "source": [
        "X_vars = ['Adj Merged Budget']\n",
        "y = [\"Adj Merged Revenue\"]"
      ]
    },
    {
      "cell_type": "code",
      "execution_count": 47,
      "metadata": {
        "id": "of31Wgdf252q"
      },
      "outputs": [],
      "source": [
        "train_X = train_df[X_vars]\n",
        "train_y = train_df[y]\n",
        "test_X = test_df[X_vars]\n",
        "test_y = test_df[y]"
      ]
    },
    {
      "cell_type": "markdown",
      "metadata": {
        "id": "5I2VCaPQ252q"
      },
      "source": [
        "We decided to use the iterative importer with a random forrest regressor"
      ]
    },
    {
      "cell_type": "code",
      "execution_count": 48,
      "metadata": {
        "id": "ON6zaSTF252q"
      },
      "outputs": [],
      "source": [
        "imp = IterativeImputer(min_value=0, max_iter=1000, random_state=102, estimator=RandomForestRegressor())"
      ]
    },
    {
      "cell_type": "markdown",
      "metadata": {
        "id": "JcrCJjY8252q"
      },
      "source": [
        "Now to build the pipeline, we need the type of models we want to try."
      ]
    },
    {
      "cell_type": "code",
      "execution_count": 49,
      "metadata": {
        "id": "F3HNrt694w2M"
      },
      "outputs": [
        {
          "name": "stderr",
          "output_type": "stream",
          "text": [
            "c:\\Users\\Sam Oberly\\AppData\\Local\\Programs\\Python\\Python310\\lib\\site-packages\\sklearn\\utils\\validation.py:757: FutureWarning: is_sparse is deprecated and will be removed in a future version. Check `isinstance(dtype, pd.SparseDtype)` instead.\n",
            "  if not hasattr(array, \"sparse\") and array.dtypes.apply(is_sparse).any():\n",
            "c:\\Users\\Sam Oberly\\AppData\\Local\\Programs\\Python\\Python310\\lib\\site-packages\\sklearn\\utils\\validation.py:595: FutureWarning: is_sparse is deprecated and will be removed in a future version. Check `isinstance(dtype, pd.SparseDtype)` instead.\n",
            "  if is_sparse(pd_dtype):\n",
            "c:\\Users\\Sam Oberly\\AppData\\Local\\Programs\\Python\\Python310\\lib\\site-packages\\sklearn\\utils\\validation.py:604: FutureWarning: is_sparse is deprecated and will be removed in a future version. Check `isinstance(dtype, pd.SparseDtype)` instead.\n",
            "  if is_sparse(pd_dtype) or not is_extension_array_dtype(pd_dtype):\n"
          ]
        }
      ],
      "source": [
        "# Step 3: Building the Pipeline\n",
        "# Assuming train_X and train_y are your training features and target variable\n",
        "# Convert train_y to a 1D array\n",
        "train_y = np.ravel(train_y)\n",
        "\n",
        "pipeline = Pipeline([\n",
        "    ('imputer', imp),\n",
        "    ('regressor', RandomForestRegressor())  # RandomForestRegressor without grid search\n",
        "])\n",
        "\n",
        "# Train the RandomForestRegressor\n",
        "pipeline.fit(train_X, train_y)\n",
        "\n",
        "# Get the trained model\n",
        "trained_model = pipeline.named_steps['regressor']\n"
      ]
    },
    {
      "cell_type": "code",
      "execution_count": 50,
      "metadata": {
        "colab": {
          "base_uri": "https://localhost:8080/"
        },
        "id": "IOzikfM86Gxf",
        "outputId": "fc7c1794-60a2-4b9f-e3e4-b95e1a6e9769"
      },
      "outputs": [
        {
          "name": "stdout",
          "output_type": "stream",
          "text": [
            "Mean Squared Error (MSE): 900306957186801.1\n",
            "Mean Absolute Error (MAE): 11789623.86170884\n",
            "Mean Absolute Percentage Error (MAPE): 107.71114265141617\n",
            "R-squared: 0.38125320696835263\n"
          ]
        },
        {
          "name": "stderr",
          "output_type": "stream",
          "text": [
            "c:\\Users\\Sam Oberly\\AppData\\Local\\Programs\\Python\\Python310\\lib\\site-packages\\sklearn\\utils\\validation.py:757: FutureWarning: is_sparse is deprecated and will be removed in a future version. Check `isinstance(dtype, pd.SparseDtype)` instead.\n",
            "  if not hasattr(array, \"sparse\") and array.dtypes.apply(is_sparse).any():\n",
            "c:\\Users\\Sam Oberly\\AppData\\Local\\Programs\\Python\\Python310\\lib\\site-packages\\sklearn\\utils\\validation.py:595: FutureWarning: is_sparse is deprecated and will be removed in a future version. Check `isinstance(dtype, pd.SparseDtype)` instead.\n",
            "  if is_sparse(pd_dtype):\n",
            "c:\\Users\\Sam Oberly\\AppData\\Local\\Programs\\Python\\Python310\\lib\\site-packages\\sklearn\\utils\\validation.py:604: FutureWarning: is_sparse is deprecated and will be removed in a future version. Check `isinstance(dtype, pd.SparseDtype)` instead.\n",
            "  if is_sparse(pd_dtype) or not is_extension_array_dtype(pd_dtype):\n",
            "c:\\Users\\Sam Oberly\\AppData\\Local\\Programs\\Python\\Python310\\lib\\site-packages\\sklearn\\utils\\validation.py:757: FutureWarning: is_sparse is deprecated and will be removed in a future version. Check `isinstance(dtype, pd.SparseDtype)` instead.\n",
            "  if not hasattr(array, \"sparse\") and array.dtypes.apply(is_sparse).any():\n",
            "c:\\Users\\Sam Oberly\\AppData\\Local\\Programs\\Python\\Python310\\lib\\site-packages\\sklearn\\utils\\validation.py:595: FutureWarning: is_sparse is deprecated and will be removed in a future version. Check `isinstance(dtype, pd.SparseDtype)` instead.\n",
            "  if is_sparse(pd_dtype):\n",
            "c:\\Users\\Sam Oberly\\AppData\\Local\\Programs\\Python\\Python310\\lib\\site-packages\\sklearn\\utils\\validation.py:604: FutureWarning: is_sparse is deprecated and will be removed in a future version. Check `isinstance(dtype, pd.SparseDtype)` instead.\n",
            "  if is_sparse(pd_dtype) or not is_extension_array_dtype(pd_dtype):\n",
            "c:\\Users\\Sam Oberly\\AppData\\Local\\Programs\\Python\\Python310\\lib\\site-packages\\sklearn\\utils\\validation.py:757: FutureWarning: is_sparse is deprecated and will be removed in a future version. Check `isinstance(dtype, pd.SparseDtype)` instead.\n",
            "  if not hasattr(array, \"sparse\") and array.dtypes.apply(is_sparse).any():\n",
            "c:\\Users\\Sam Oberly\\AppData\\Local\\Programs\\Python\\Python310\\lib\\site-packages\\sklearn\\utils\\validation.py:595: FutureWarning: is_sparse is deprecated and will be removed in a future version. Check `isinstance(dtype, pd.SparseDtype)` instead.\n",
            "  if is_sparse(pd_dtype):\n",
            "c:\\Users\\Sam Oberly\\AppData\\Local\\Programs\\Python\\Python310\\lib\\site-packages\\sklearn\\utils\\validation.py:604: FutureWarning: is_sparse is deprecated and will be removed in a future version. Check `isinstance(dtype, pd.SparseDtype)` instead.\n",
            "  if is_sparse(pd_dtype) or not is_extension_array_dtype(pd_dtype):\n",
            "c:\\Users\\Sam Oberly\\AppData\\Local\\Programs\\Python\\Python310\\lib\\site-packages\\sklearn\\utils\\validation.py:757: FutureWarning: is_sparse is deprecated and will be removed in a future version. Check `isinstance(dtype, pd.SparseDtype)` instead.\n",
            "  if not hasattr(array, \"sparse\") and array.dtypes.apply(is_sparse).any():\n",
            "c:\\Users\\Sam Oberly\\AppData\\Local\\Programs\\Python\\Python310\\lib\\site-packages\\sklearn\\utils\\validation.py:595: FutureWarning: is_sparse is deprecated and will be removed in a future version. Check `isinstance(dtype, pd.SparseDtype)` instead.\n",
            "  if is_sparse(pd_dtype):\n",
            "c:\\Users\\Sam Oberly\\AppData\\Local\\Programs\\Python\\Python310\\lib\\site-packages\\sklearn\\utils\\validation.py:604: FutureWarning: is_sparse is deprecated and will be removed in a future version. Check `isinstance(dtype, pd.SparseDtype)` instead.\n",
            "  if is_sparse(pd_dtype) or not is_extension_array_dtype(pd_dtype):\n",
            "c:\\Users\\Sam Oberly\\AppData\\Local\\Programs\\Python\\Python310\\lib\\site-packages\\sklearn\\utils\\validation.py:757: FutureWarning: is_sparse is deprecated and will be removed in a future version. Check `isinstance(dtype, pd.SparseDtype)` instead.\n",
            "  if not hasattr(array, \"sparse\") and array.dtypes.apply(is_sparse).any():\n",
            "c:\\Users\\Sam Oberly\\AppData\\Local\\Programs\\Python\\Python310\\lib\\site-packages\\sklearn\\utils\\validation.py:595: FutureWarning: is_sparse is deprecated and will be removed in a future version. Check `isinstance(dtype, pd.SparseDtype)` instead.\n",
            "  if is_sparse(pd_dtype):\n",
            "c:\\Users\\Sam Oberly\\AppData\\Local\\Programs\\Python\\Python310\\lib\\site-packages\\sklearn\\utils\\validation.py:604: FutureWarning: is_sparse is deprecated and will be removed in a future version. Check `isinstance(dtype, pd.SparseDtype)` instead.\n",
            "  if is_sparse(pd_dtype) or not is_extension_array_dtype(pd_dtype):\n"
          ]
        }
      ],
      "source": [
        "# Assuming you have test_X as your test features\n",
        "# Make predictions using the trained model\n",
        "predictions = pipeline.predict(test_X)\n",
        "\n",
        "# Now you can use these predictions for further analysis or evaluation\n",
        "# For instance, if you have test_y (actual target values), you can evaluate the model performance\n",
        "# For example, using metrics like mean squared error (MSE) or R-squared\n",
        "from sklearn.metrics import mean_squared_error, r2_score, mean_absolute_error, mean_absolute_percentage_error\n",
        "\n",
        "# Assuming test_y is your actual target variable for the test data\n",
        "# Evaluate the model\n",
        "mse = mean_squared_error(test_y, predictions)\n",
        "mae = mean_absolute_error(test_y, predictions)\n",
        "mape = mean_absolute_percentage_error(test_y, predictions)\n",
        "r_squared = r2_score(test_y, predictions)\n",
        "\n",
        "print(\"Mean Squared Error (MSE):\", mse)\n",
        "print(\"Mean Absolute Error (MAE):\", mae)\n",
        "print(\"Mean Absolute Percentage Error (MAPE):\", mape)\n",
        "print(\"R-squared:\", r_squared)"
      ]
    },
    {
      "cell_type": "code",
      "execution_count": 51,
      "metadata": {
        "id": "p8o5jpmX8_Zm"
      },
      "outputs": [],
      "source": [
        "import matplotlib.pyplot as plt"
      ]
    },
    {
      "cell_type": "code",
      "execution_count": 52,
      "metadata": {},
      "outputs": [
        {
          "name": "stderr",
          "output_type": "stream",
          "text": [
            "C:\\Users\\Sam Oberly\\AppData\\Local\\Temp\\ipykernel_21132\\865344186.py:1: SettingWithCopyWarning: \n",
            "A value is trying to be set on a copy of a slice from a DataFrame.\n",
            "Try using .loc[row_indexer,col_indexer] = value instead\n",
            "\n",
            "See the caveats in the documentation: https://pandas.pydata.org/pandas-docs/stable/user_guide/indexing.html#returning-a-view-versus-a-copy\n",
            "  test_y[\"Predictions\"] = predictions\n"
          ]
        }
      ],
      "source": [
        "test_y[\"Predictions\"] = predictions"
      ]
    },
    {
      "cell_type": "code",
      "execution_count": 53,
      "metadata": {},
      "outputs": [
        {
          "name": "stderr",
          "output_type": "stream",
          "text": [
            "C:\\Users\\Sam Oberly\\AppData\\Local\\Temp\\ipykernel_21132\\502878929.py:1: SettingWithCopyWarning: \n",
            "A value is trying to be set on a copy of a slice from a DataFrame.\n",
            "Try using .loc[row_indexer,col_indexer] = value instead\n",
            "\n",
            "See the caveats in the documentation: https://pandas.pydata.org/pandas-docs/stable/user_guide/indexing.html#returning-a-view-versus-a-copy\n",
            "  test_y[\"differences\"] = abs(test_y[\"Adj Merged Revenue\"] - test_y[\"Predictions\"])\n"
          ]
        }
      ],
      "source": [
        "test_y[\"differences\"] = abs(test_y[\"Adj Merged Revenue\"] - test_y[\"Predictions\"])"
      ]
    },
    {
      "cell_type": "code",
      "execution_count": 57,
      "metadata": {},
      "outputs": [
        {
          "data": {
            "text/plain": [
              "<matplotlib.collections.PathCollection at 0x2809818c6d0>"
            ]
          },
          "execution_count": 57,
          "metadata": {},
          "output_type": "execute_result"
        },
        {
          "data": {
            "image/png": "[encoded data removed]",
            "text/plain": [
              "<Figure size 432x288 with 1 Axes>"
            ]
          },
          "metadata": {
            "needs_background": "light"
          },
          "output_type": "display_data"
        }
      ],
      "source": [
        "plt.scatter(np.array(test_y[\"Adj Merged Revenue\"]), np.array(test_y[\"Predictions\"]))"
      ]
    }
  ],
  "metadata": {
    "colab": {
      "provenance": []
    },
    "kernelspec": {
      "display_name": "Python 3",
      "language": "python",
      "name": "python3"
    },
    "language_info": {
      "codemirror_mode": {
        "name": "ipython",
        "version": 3
      },
      "file_extension": ".py",
      "mimetype": "text/x-python",
      "name": "python",
      "nbconvert_exporter": "python",
      "pygments_lexer": "ipython3",
      "version": "3.10.4"
    }
  },
  "nbformat": 4,
  "nbformat_minor": 0
}
