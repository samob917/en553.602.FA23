{
<<<<<<< HEAD
  "cells": [
    {
      "cell_type": "markdown",
      "metadata": {
        "id": "wyoN9Zvp252l"
      },
      "source": [
        "This is the Model module"
      ]
    },
    {
      "cell_type": "code",
      "execution_count": 13,
      "metadata": {
        "id": "qCFJyMUs252n"
      },
      "outputs": [],
      "source": [
        "import pandas as pd\n",
        "from sklearn.model_selection import GridSearchCV\n",
        "from sklearn.pipeline import Pipeline\n",
        "from sklearn.experimental import enable_iterative_imputer\n",
        "from sklearn.impute import IterativeImputer\n",
        "from sklearn.ensemble import RandomForestRegressor, GradientBoostingRegressor\n",
        "from sklearn.svm import SVR\n",
        "import numpy as np"
      ]
    },
    {
      "cell_type": "code",
      "execution_count": 14,
      "metadata": {
        "id": "iFhzHNWU252p"
      },
      "outputs": [],
      "source": [
        "train_df = pd.read_csv(\"./3.3 Construct Data/Final Datasets/imputed_budget_train.csv\")\n",
        "test_df = pd.read_csv(\"./3.3 Construct Data/Final Datasets/imputed_budget_test.csv\")"
      ]
    },
    {
      "cell_type": "code",
      "execution_count": 15,
      "metadata": {
        "id": "1vVZEELG252p"
      },
      "outputs": [],
      "source": [
        "X_vars = ['Runtime', 'Genre Cluster', 'G', 'NC-17', 'NR', 'PG', 'PG-13', 'R', 'Holiday', 'Adj Merged Budget', 'Has Star Score', 'Has Director Score', 'Has Production Company Score', 'Has Domestic Distributor Score', 'Unweighted Star Score_normalized', 'Simple Weight Star Score_normalized', 'Log Weight Star Score_normalized', 'Exponential Weight Star Score_normalized', 'Total Director Score_normalized', 'Avg Director Score_normalized', 'Total Production Company Score_normalized', 'Avg Production Company Score_normalized', 'Domestic Distributor Score_normalized', 'Season_ASO_4', 'Season_FMA_2', 'Season_MJJ_3', 'Season_NDJ_1']\n",
        "y = [\"Adj Merged Revenue\"]"
      ]
    },
    {
      "cell_type": "code",
      "execution_count": 16,
      "metadata": {
        "id": "of31Wgdf252q"
      },
      "outputs": [],
      "source": [
        "train_X = train_df[X_vars]\n",
        "train_y = train_df[y]\n",
        "test_X = test_df[X_vars]\n",
        "test_y = test_df[y]"
      ]
    },
    {
      "cell_type": "markdown",
      "metadata": {
        "id": "5I2VCaPQ252q"
      },
      "source": [
        "We decided to use the iterative importer with a random forrest regressor"
      ]
    },
    {
      "cell_type": "code",
      "execution_count": 17,
      "metadata": {
        "id": "ON6zaSTF252q"
      },
      "outputs": [],
      "source": [
        "imp = IterativeImputer(min_value=0, max_iter=1000, random_state=102, estimator=RandomForestRegressor())"
      ]
    },
    {
      "cell_type": "markdown",
      "metadata": {
        "id": "JcrCJjY8252q"
      },
      "source": [
        "Now to build the pipeline, we need the type of models we want to try."
      ]
    },
    {
      "cell_type": "code",
      "execution_count": 18,
      "metadata": {
        "id": "F3HNrt694w2M"
      },
      "outputs": [
        {
          "name": "stderr",
          "output_type": "stream",
          "text": [
            "c:\\Users\\Sam Oberly\\AppData\\Local\\Programs\\Python\\Python310\\lib\\site-packages\\sklearn\\utils\\validation.py:757: FutureWarning: is_sparse is deprecated and will be removed in a future version. Check `isinstance(dtype, pd.SparseDtype)` instead.\n",
            "  if not hasattr(array, \"sparse\") and array.dtypes.apply(is_sparse).any():\n",
            "c:\\Users\\Sam Oberly\\AppData\\Local\\Programs\\Python\\Python310\\lib\\site-packages\\sklearn\\utils\\validation.py:595: FutureWarning: is_sparse is deprecated and will be removed in a future version. Check `isinstance(dtype, pd.SparseDtype)` instead.\n",
            "  if is_sparse(pd_dtype):\n",
            "c:\\Users\\Sam Oberly\\AppData\\Local\\Programs\\Python\\Python310\\lib\\site-packages\\sklearn\\utils\\validation.py:604: FutureWarning: is_sparse is deprecated and will be removed in a future version. Check `isinstance(dtype, pd.SparseDtype)` instead.\n",
            "  if is_sparse(pd_dtype) or not is_extension_array_dtype(pd_dtype):\n"
          ]
        }
      ],
      "source": [
        "# Step 3: Building the Pipeline\n",
        "# Assuming train_X and train_y are your training features and target variable\n",
        "# Convert train_y to a 1D array\n",
        "train_y = np.ravel(train_y)\n",
        "\n",
        "pipeline = Pipeline([\n",
        "    ('imputer', imp),\n",
        "    ('regressor', RandomForestRegressor())  # RandomForestRegressor without grid search\n",
        "])\n",
        "\n",
        "# Train the RandomForestRegressor\n",
        "pipeline.fit(train_X, train_y)\n",
        "\n",
        "# Get the trained model\n",
        "trained_model = pipeline.named_steps['regressor']\n"
      ]
=======
 "cells": [
  {
   "cell_type": "markdown",
   "metadata": {
    "id": "wyoN9Zvp252l"
   },
   "source": [
    "This is the Model module"
   ]
  },
  {
   "cell_type": "code",
   "execution_count": 1,
   "metadata": {
    "id": "qCFJyMUs252n"
   },
   "outputs": [],
   "source": [
    "import pandas as pd\n",
    "from sklearn.model_selection import GridSearchCV\n",
    "from sklearn.pipeline import Pipeline\n",
    "from sklearn.experimental import enable_iterative_imputer\n",
    "from sklearn.impute import IterativeImputer\n",
    "from sklearn.ensemble import RandomForestRegressor, GradientBoostingRegressor\n",
    "from sklearn.svm import SVR\n",
    "import numpy as np"
   ]
  },
  {
   "cell_type": "code",
   "execution_count": 3,
   "metadata": {
    "id": "iFhzHNWU252p"
   },
   "outputs": [],
   "source": [
    "train_df = pd.read_csv(\"./3.3 Construct Data/Final Datasets/imputed_budget_train.csv\")\n",
    "test_df = pd.read_csv(\"./3.3 Construct Data/Final Datasets/imputed_budget_test.csv\")"
   ]
  },
  {
   "cell_type": "code",
   "execution_count": 4,
   "metadata": {
    "id": "1vVZEELG252p"
   },
   "outputs": [],
   "source": [
    "X_vars = ['Runtime', 'Genre Cluster', 'G', 'NC-17', 'NR', 'PG', 'PG-13', 'R', 'Holiday', 'Adj Merged Budget', 'Has Star Score', 'Has Director Score', 'Has Production Company Score', 'Has Domestic Distributor Score', 'Unweighted Star Score_normalized', 'Simple Weight Star Score_normalized', 'Log Weight Star Score_normalized', 'Exponential Weight Star Score_normalized', 'Total Director Score_normalized', 'Avg Director Score_normalized', 'Total Production Company Score_normalized', 'Avg Production Company Score_normalized', 'Domestic Distributor Score_normalized', 'Season_ASO_4', 'Season_FMA_2', 'Season_MJJ_3', 'Season_NDJ_1']\n",
    "y = [\"Adj Merged Revenue\"]"
   ]
  },
  {
   "cell_type": "code",
   "execution_count": 5,
   "metadata": {
    "id": "of31Wgdf252q"
   },
   "outputs": [],
   "source": [
    "train_X = train_df[X_vars]\n",
    "train_y = train_df[y]\n",
    "test_X = test_df[X_vars]\n",
    "test_y = test_df[y]"
   ]
  },
  {
   "cell_type": "markdown",
   "metadata": {
    "id": "5I2VCaPQ252q"
   },
   "source": [
    "We decided to use the iterative importer with a random forrest regressor"
   ]
  },
  {
   "cell_type": "code",
   "execution_count": 6,
   "metadata": {
    "id": "ON6zaSTF252q"
   },
   "outputs": [],
   "source": [
    "imp = IterativeImputer(min_value=0, max_iter=1000, random_state=102, estimator=RandomForestRegressor())"
   ]
  },
  {
   "cell_type": "markdown",
   "metadata": {
    "id": "JcrCJjY8252q"
   },
   "source": [
    "Now to build the pipeline, we need the type of models we want to try."
   ]
  },
  {
   "cell_type": "code",
   "execution_count": 7,
   "metadata": {
    "id": "F3HNrt694w2M"
   },
   "outputs": [],
   "source": [
    "# Step 3: Building the Pipeline\n",
    "# Assuming train_X and train_y are your training features and target variable\n",
    "# Convert train_y to a 1D array\n",
    "train_y = np.ravel(train_y)\n",
    "\n",
    "pipeline = Pipeline([\n",
    "    ('imputer', imp),\n",
    "    ('regressor', RandomForestRegressor())  # RandomForestRegressor without grid search\n",
    "])\n",
    "\n",
    "# Train the RandomForestRegressor\n",
    "pipeline.fit(train_X, train_y)\n",
    "\n",
    "# Get the trained model\n",
    "trained_model = pipeline.named_steps['regressor']\n"
   ]
  },
  {
   "cell_type": "code",
   "execution_count": 9,
   "metadata": {
    "colab": {
     "base_uri": "https://localhost:8080/"
>>>>>>> ecf6af62a364c9818112d0ec616e2b9c57398273
    },
    "id": "IOzikfM86Gxf",
    "outputId": "6caf0291-100c-4043-e8fa-67305e324ef0"
   },
   "outputs": [
    {
<<<<<<< HEAD
      "cell_type": "code",
      "execution_count": 19,
      "metadata": {
        "colab": {
          "base_uri": "https://localhost:8080/"
        },
        "id": "IOzikfM86Gxf",
        "outputId": "6caf0291-100c-4043-e8fa-67305e324ef0"
      },
      "outputs": [
        {
          "name": "stdout",
          "output_type": "stream",
          "text": [
            "Mean Squared Error (MSE): 777656700301269.0\n",
            "R-squared: 0.46554607231459344\n"
          ]
        },
        {
          "name": "stderr",
          "output_type": "stream",
          "text": [
            "c:\\Users\\Sam Oberly\\AppData\\Local\\Programs\\Python\\Python310\\lib\\site-packages\\sklearn\\utils\\validation.py:757: FutureWarning: is_sparse is deprecated and will be removed in a future version. Check `isinstance(dtype, pd.SparseDtype)` instead.\n",
            "  if not hasattr(array, \"sparse\") and array.dtypes.apply(is_sparse).any():\n",
            "c:\\Users\\Sam Oberly\\AppData\\Local\\Programs\\Python\\Python310\\lib\\site-packages\\sklearn\\utils\\validation.py:595: FutureWarning: is_sparse is deprecated and will be removed in a future version. Check `isinstance(dtype, pd.SparseDtype)` instead.\n",
            "  if is_sparse(pd_dtype):\n",
            "c:\\Users\\Sam Oberly\\AppData\\Local\\Programs\\Python\\Python310\\lib\\site-packages\\sklearn\\utils\\validation.py:604: FutureWarning: is_sparse is deprecated and will be removed in a future version. Check `isinstance(dtype, pd.SparseDtype)` instead.\n",
            "  if is_sparse(pd_dtype) or not is_extension_array_dtype(pd_dtype):\n",
            "c:\\Users\\Sam Oberly\\AppData\\Local\\Programs\\Python\\Python310\\lib\\site-packages\\sklearn\\utils\\validation.py:757: FutureWarning: is_sparse is deprecated and will be removed in a future version. Check `isinstance(dtype, pd.SparseDtype)` instead.\n",
            "  if not hasattr(array, \"sparse\") and array.dtypes.apply(is_sparse).any():\n",
            "c:\\Users\\Sam Oberly\\AppData\\Local\\Programs\\Python\\Python310\\lib\\site-packages\\sklearn\\utils\\validation.py:595: FutureWarning: is_sparse is deprecated and will be removed in a future version. Check `isinstance(dtype, pd.SparseDtype)` instead.\n",
            "  if is_sparse(pd_dtype):\n",
            "c:\\Users\\Sam Oberly\\AppData\\Local\\Programs\\Python\\Python310\\lib\\site-packages\\sklearn\\utils\\validation.py:604: FutureWarning: is_sparse is deprecated and will be removed in a future version. Check `isinstance(dtype, pd.SparseDtype)` instead.\n",
            "  if is_sparse(pd_dtype) or not is_extension_array_dtype(pd_dtype):\n",
            "c:\\Users\\Sam Oberly\\AppData\\Local\\Programs\\Python\\Python310\\lib\\site-packages\\sklearn\\utils\\validation.py:757: FutureWarning: is_sparse is deprecated and will be removed in a future version. Check `isinstance(dtype, pd.SparseDtype)` instead.\n",
            "  if not hasattr(array, \"sparse\") and array.dtypes.apply(is_sparse).any():\n",
            "c:\\Users\\Sam Oberly\\AppData\\Local\\Programs\\Python\\Python310\\lib\\site-packages\\sklearn\\utils\\validation.py:595: FutureWarning: is_sparse is deprecated and will be removed in a future version. Check `isinstance(dtype, pd.SparseDtype)` instead.\n",
            "  if is_sparse(pd_dtype):\n",
            "c:\\Users\\Sam Oberly\\AppData\\Local\\Programs\\Python\\Python310\\lib\\site-packages\\sklearn\\utils\\validation.py:604: FutureWarning: is_sparse is deprecated and will be removed in a future version. Check `isinstance(dtype, pd.SparseDtype)` instead.\n",
            "  if is_sparse(pd_dtype) or not is_extension_array_dtype(pd_dtype):\n"
          ]
        }
      ],
      "source": [
        "# Assuming you have test_X as your test features\n",
        "# Make predictions using the trained model\n",
        "predictions = pipeline.predict(test_X)\n",
        "\n",
        "# Now you can use these predictions for further analysis or evaluation\n",
        "# For instance, if you have test_y (actual target values), you can evaluate the model performance\n",
        "# For example, using metrics like mean squared error (MSE) or R-squared\n",
        "from sklearn.metrics import mean_squared_error, r2_score\n",
        "\n",
        "# Assuming test_y is your actual target variable for the test data\n",
        "# Evaluate the model\n",
        "mse = mean_squared_error(test_y, predictions)\n",
        "r_squared = r2_score(test_y, predictions)\n",
        "\n",
        "print(\"Mean Squared Error (MSE):\", mse)\n",
        "print(\"R-squared:\", r_squared)"
      ]
    },
    {
      "cell_type": "code",
      "execution_count": 21,
      "metadata": {},
      "outputs": [
        {
          "name": "stderr",
          "output_type": "stream",
          "text": [
            "C:\\Users\\Sam Oberly\\AppData\\Local\\Temp\\ipykernel_5748\\4109642912.py:2: SettingWithCopyWarning: \n",
            "A value is trying to be set on a copy of a slice from a DataFrame.\n",
            "Try using .loc[row_indexer,col_indexer] = value instead\n",
            "\n",
            "See the caveats in the documentation: https://pandas.pydata.org/pandas-docs/stable/user_guide/indexing.html#returning-a-view-versus-a-copy\n",
            "  test_y[\"Predictions\"] = predictions\n",
            "C:\\Users\\Sam Oberly\\AppData\\Local\\Temp\\ipykernel_5748\\4109642912.py:3: SettingWithCopyWarning: \n",
            "A value is trying to be set on a copy of a slice from a DataFrame.\n",
            "Try using .loc[row_indexer,col_indexer] = value instead\n",
            "\n",
            "See the caveats in the documentation: https://pandas.pydata.org/pandas-docs/stable/user_guide/indexing.html#returning-a-view-versus-a-copy\n",
            "  test_y[\"differences\"] = abs(test_y[\"Adj Merged Revenue\"] - test_y[\"Predictions\"])\n"
          ]
        },
        {
          "data": {
            "text/plain": [
              "<matplotlib.collections.PathCollection at 0x211acd8ba90>"
            ]
          },
          "execution_count": 21,
          "metadata": {},
          "output_type": "execute_result"
        },
        {
          "data": {
            "image/png": "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",
            "text/plain": [
              "<Figure size 432x288 with 1 Axes>"
            ]
          },
          "metadata": {
            "needs_background": "light"
          },
          "output_type": "display_data"
        }
      ],
      "source": [
        "import matplotlib.pyplot as plt\n",
        "test_y[\"Predictions\"] = predictions\n",
        "test_y[\"differences\"] = abs(test_y[\"Adj Merged Revenue\"] - test_y[\"Predictions\"])\n",
        "plt.scatter(np.array(test_y[\"Adj Merged Revenue\"]), np.array(test_y[\"Predictions\"]))"
      ]
    }
  ],
  "metadata": {
    "colab": {
      "provenance": []
    },
    "kernelspec": {
      "display_name": "Python 3",
      "language": "python",
      "name": "python3"
    },
    "language_info": {
      "codemirror_mode": {
        "name": "ipython",
        "version": 3
      },
      "file_extension": ".py",
      "mimetype": "text/x-python",
      "name": "python",
      "nbconvert_exporter": "python",
      "pygments_lexer": "ipython3",
      "version": "3.10.4"
=======
     "name": "stdout",
     "output_type": "stream",
     "text": [
      "Mean Squared Error (MSE): 736330835293680.0\n",
      "Mean Absolute Error (MAE): 11187359.32574438\n",
      "R-squared: 0.4939477704671925\n"
     ]
>>>>>>> ecf6af62a364c9818112d0ec616e2b9c57398273
    }
   ],
   "source": [
    "# Assuming you have test_X as your test features\n",
    "# Make predictions using the trained model\n",
    "predictions = pipeline.predict(test_X)\n",
    "\n",
    "# Now you can use these predictions for further analysis or evaluation\n",
    "# For instance, if you have test_y (actual target values), you can evaluate the model performance\n",
    "# For example, using metrics like mean squared error (MSE) or R-squared\n",
    "from sklearn.metrics import mean_squared_error, mean_absolute_error, r2_score\n",
    "\n",
    "# Assuming test_y is your actual target variable for the test data\n",
    "# Evaluate the model\n",
    "mae = mean_absolute_error(test_y, predictions)\n",
    "mse = mean_squared_error(test_y, predictions)\n",
    "r_squared = r2_score(test_y, predictions)\n",
    "\n",
    "print(\"Mean Squared Error (MSE):\", mse)\n",
    "print(\"Mean Absolute Error (MAE):\", mae)\n",
    "print(\"R-squared:\", r_squared)"
   ]
  }
 ],
 "metadata": {
  "colab": {
   "provenance": []
  },
  "kernelspec": {
   "display_name": "Python 3 (ipykernel)",
   "language": "python",
   "name": "python3"
  },
<<<<<<< HEAD
  "nbformat": 4,
  "nbformat_minor": 0
=======
  "language_info": {
   "codemirror_mode": {
    "name": "ipython",
    "version": 3
   },
   "file_extension": ".py",
   "mimetype": "text/x-python",
   "name": "python",
   "nbconvert_exporter": "python",
   "pygments_lexer": "ipython3",
   "version": "3.10.9"
  }
 },
 "nbformat": 4,
 "nbformat_minor": 1
>>>>>>> ecf6af62a364c9818112d0ec616e2b9c57398273
}
